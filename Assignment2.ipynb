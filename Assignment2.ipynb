{
 "cells": [
  {
   "cell_type": "markdown",
   "source": [
    "# 1 Problem 1 (35 points)\n",
    "\n",
    "We have a dataset from a survey which records travel mode for a sample of travellers\n",
    "in a given city. We generate two binomial logistic regression models with travel mode\n",
    "as the dependent variable - 0 refers to walking and 1 refers to travel by car. The\n",
    "results of the two models are given below. In Model 1, the independent variables\n",
    "are travel time in seconds (TrvlTime), traveller age in years (Age), the number of\n",
    "times the individual travels during the survey period (Indiv trvl frequency), the\n",
    "number of vehicles owned by the household (HHVeh), and the number of people in\n",
    "the household (HHsize). Model 2 contains the same variables as Model 1 minus the\n",
    "variable Indiv trvl frequency.\n",
    "\n",
    "Model 1 results:\n",
    "\n",
    "Estimate Std. Error z value Pr(>|z|)\n",
    "(Intercept) -2.126e+00 2.700e-02 -78.723 < 2e-16 ***\n",
    "TrvlTime 9.786e-04 1.037e-05 94.334 < 2e-16 ***\n",
    "Age 1.716e-02 3.858e-04 44.485 < 2e-16 ***\n",
    "Indiv_trvl_frequency 1.611e-02 4.748e-04 33.937 < 2e-16 ***\n",
    "HHVeh 1.012e+00 8.924e-03 113.359 < 2e-16 ***\n",
    "HHsize -2.463e-02 3.285e-03 -7.497 6.54e-14 ***\n",
    "\n",
    "Signif. codes: 0 ‘***’ 0.001 ‘**’ 0.01 ‘*’ 0.05 ‘.’ 0.1 ‘ ’ 1\n",
    "n = 244493\n",
    "BIC = 95815.66\n",
    "\n",
    "Model 2 results:\n",
    "\n",
    "Estimate Std. Error z value Pr(>|z|)\n",
    "(Intercept) -2.038e+00 2.689e-02 -75.778 < 2e-16 ***\n",
    "TrvlTime 9.465e-04 1.026e-05 92.282 < 2e-16 ***\n",
    "Age 1.711e-02 3.876e-04 44.149 < 2e-16 ***\n",
    "HHVeh 1.188e+00 7.544e-03 157.549 < 2e-16 ***\n",
    "HHsize -9.367e-03 3.244e-03 -2.888 0.00388 **\n",
    "\n",
    "Signif. codes: 0 ‘***’ 0.001 ‘**’ 0.01 ‘*’ 0.05 ‘.’ 0.1 ‘ ’ 1\n",
    "n = 244493\n",
    "BIC = 97047.6"
   ],
   "metadata": {
    "collapsed": false
   }
  },
  {
   "cell_type": "markdown",
   "source": [
    "## 1.1. Discuss the performance of both models in terms of overall model performance\n",
    "and the parameter results. Which model performs best for classifying the travel\n",
    "mode? (10 points)\n",
    "On the first glance, all the features for both model has statistical significance since the p-value is less than 0.05. However, the model 1 performs better than model 2. The BIC of model 1 is lower than model 2, which means model 1 is better. Also, the p-value of the model 1 is lower than model 2, which means the model 1 is more significant. After remove the variable Indiv_trvl_frequency, the model 2 is not as good as model 1.\n",
    "We need further statistical figure to have better assessment of 2 model: Logistic likelihood. And also the data set to see if there is co linearity between 2 features: House hold vehicles, and household size.\n"
   ],
   "metadata": {
    "collapsed": false
   }
  },
  {
   "cell_type": "markdown",
   "source": [
    "## 1.2. We have two sets of input values from two survey respondents for the independent variables as given in Table 1. Based on your identification of the best model above, calculate the probability of these two respondents choosing the car mode, and comment on your results. (15 points)\n",
    "\n"
   ],
   "metadata": {
    "collapsed": false
   }
  },
  {
   "cell_type": "markdown",
   "source": [
    "# 2.Problem 2 (25 points)\n",
    "Consider a binary classification problem with two-dimensional feature space. You are\n",
    "given a dataset containing eight samples (see Table 2).\n",
    " Binary classification dataset\n",
    "    x1      x2      y\n",
    "    −1.0    1.0     1\n",
    "    0.0     1.0     1\n",
    "    0.0     0.5     1\n",
    "    1.0     1.0     1\n",
    "    −2.0    1.0     −1\n",
    "    −1.5    −1.0    −1\n",
    "    1.5     −1.0    −1\n",
    "    2.0     1.0     −1\n",
    "\n"
   ],
   "metadata": {
    "collapsed": false
   }
  },
  {
   "cell_type": "markdown",
   "source": [
    "## 2.1. Plot the given data points on a two-dimensional graph, with different markers\n",
    "for each class. (5 points)\n"
   ],
   "metadata": {
    "collapsed": false
   }
  },
  {
   "cell_type": "code",
   "execution_count": 2,
   "outputs": [
    {
     "data": {
      "text/plain": "<Figure size 640x480 with 1 Axes>",
      "image/png": "[encoded data removed]"
     },
     "metadata": {},
     "output_type": "display_data"
    }
   ],
   "source": [
    "import matplotlib.pyplot as plt\n",
    "import numpy as np\n",
    "import pandas as pd\n",
    "import seaborn as sns\n",
    "from sklearn.linear_model import LogisticRegression\n",
    "from sklearn.metrics import accuracy_score, confusion_matrix, roc_curve, roc_auc_score\n",
    "# Plot the given data points on a two-dimensional graph, with different markers for each class.\n",
    "x1 = [-1.0, 0.0, 0.0, 1.0, -2.0, -1.5, 1.5, 2.0]\n",
    "x2 = [1.0, 1.0, 0.5, 1.0, 1.0, -1.0, -1.0, 1.0]\n",
    "y = [1, 1, 1, 1, -1, -1, -1, -1]\n",
    "df = pd.DataFrame({'x1': x1, 'x2': x2, 'y': y})\n",
    "#change the color of the plot\n",
    "sns.scatterplot(x='x1', y='x2', hue='y', data=df, palette=['red', 'blue'])\n",
    "plt.show()"
   ],
   "metadata": {
    "collapsed": false
   }
  },
  {
   "cell_type": "markdown",
   "source": [
    "## 2.2. Suppose that we want to build a simple decision tree with the following if-else\n",
    "decision rule:\n",
    "yˆ =\n",
    "(\n",
    "    1, x2 ⩾ 0,\n",
    "−1, x2 < 0.\n",
    "Compute the information gain from this decision rule. (5 points)"
   ],
   "metadata": {
    "collapsed": false
   }
  },
  {
   "cell_type": "markdown",
   "source": [
    "\n",
    "Step 1: Compute the entropy before the split\n",
    "\n"
   ],
   "metadata": {
    "collapsed": false
   }
  }
 ],
 "metadata": {
  "kernelspec": {
   "display_name": "Python 3",
   "language": "python",
   "name": "python3"
  },
  "language_info": {
   "codemirror_mode": {
    "name": "ipython",
    "version": 2
   },
   "file_extension": ".py",
   "mimetype": "text/x-python",
   "name": "python",
   "nbconvert_exporter": "python",
   "pygments_lexer": "ipython2",
   "version": "2.7.6"
  }
 },
 "nbformat": 4,
 "nbformat_minor": 0
}
